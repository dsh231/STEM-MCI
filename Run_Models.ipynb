{
 "cells": [
  {
   "cell_type": "markdown",
   "metadata": {},
   "source": [
    "This Python notebook implements the models for predicting MCI and NC classes based on In-Home Mobility Dataset and\n",
    "CASAS dataset.\n",
    "\n",
    "To run this notebook, ensure you have the following Python libraries installed: \n",
    "<br><br>\n",
    "numpy : 1.24.3<br>\n",
    "pandas : 2.0.3<br>\n",
    "sklearn : 1.3.0<br>\n",
    "tqdm : 4.66.1<br>\n",
    "json : 2.0.9<br>\n",
    "csv : 1.0<br>"
   ]
  },
  {
   "attachments": {},
   "cell_type": "markdown",
   "metadata": {},
   "source": [
    "The following Python files execute the respective models on the SINEW dataset:<br><br>\n",
    "1. RF_Model<br>\n",
    "2. LSTM_Model<br>\n",
    "3. SVM_Model<br>\n",
    "4. LightGBM_Model<br>\n",
    "5. Transformer_Model_sinew_data Model<br>\n",
    "6. Stem_MCI_Model Model<br> "
   ]
  },
  {
   "cell_type": "code",
   "execution_count": null,
   "metadata": {},
   "outputs": [],
   "source": [
    "\n",
    "from RF_Model import *"
   ]
  },
  {
   "cell_type": "code",
   "execution_count": null,
   "metadata": {},
   "outputs": [],
   "source": [
    "from LSTM_Model import * "
   ]
  },
  {
   "cell_type": "code",
   "execution_count": null,
   "metadata": {},
   "outputs": [],
   "source": [
    "from SVM_Model import *"
   ]
  },
  {
   "cell_type": "code",
   "execution_count": null,
   "metadata": {},
   "outputs": [],
   "source": [
    "from LightGBM_Model import *"
   ]
  },
  {
   "cell_type": "code",
   "execution_count": null,
   "metadata": {},
   "outputs": [],
   "source": [
    "from Transformer_Model_Mobility_data import *"
   ]
  },
  {
   "cell_type": "code",
   "execution_count": null,
   "metadata": {},
   "outputs": [],
   "source": [
    "from Stem_MCI_Model import *"
   ]
  },
  {
   "attachments": {},
   "cell_type": "markdown",
   "metadata": {},
   "source": [
    "The following Python files execute the respective models on the CASAS dataset:<br><br>\n",
    "1. Transformer_Model_casas_data Model<br>\n",
    "2. FusionART Model <br>\n"
   ]
  },
  {
   "cell_type": "code",
   "execution_count": null,
   "metadata": {},
   "outputs": [],
   "source": [
    "from Transformer_Model_casas_data import * "
   ]
  },
  {
   "cell_type": "code",
   "execution_count": null,
   "metadata": {},
   "outputs": [],
   "source": [
    "from FusionART import *"
   ]
  }
 ],
 "metadata": {
  "kernelspec": {
   "display_name": "Python 3",
   "language": "python",
   "name": "python3"
  },
  "language_info": {
   "codemirror_mode": {
    "name": "ipython",
    "version": 3
   },
   "file_extension": ".py",
   "mimetype": "text/x-python",
   "name": "python",
   "nbconvert_exporter": "python",
   "pygments_lexer": "ipython3",
   "version": "3.8.10"
  },
  "orig_nbformat": 4
 },
 "nbformat": 4,
 "nbformat_minor": 2
}
